{
 "cells": [
  {
   "cell_type": "markdown",
   "metadata": {},
   "source": [
    "<h1>Coursera IBM Data Science Capstone</h1>\n",
    "<h3>This notebook will be used for the IBM Certified Data Science Capstone through coursera.</h3>"
   ]
  },
  {
   "cell_type": "markdown",
   "metadata": {},
   "source": [
    "## Table of contents\n",
    "* [Introduction](#introduction)\n",
    "* [Problem](#Problem)\n",
    "* [Data](#Data)\n",
    "* [Methodology](#Methodology)\n",
    "* [Analysis](#Analysis)\n",
    "* [Results](#Results)\n",
    "* [Conclusion](#Conclusion)"
   ]
  },
  {
   "cell_type": "markdown",
   "metadata": {},
   "source": [
    "## Introduction<a name=\"introduction\"></a>"
   ]
  },
  {
   "cell_type": "markdown",
   "metadata": {},
   "source": [
    "There is about 115 million cars that hit the road everyday. Inside each car is a driver who has their motivations to get places safely. As we innovate and adopt new technologies into our automobiles it has definetly gotten safer to drive. However accidents are still very much a sobering reminder of the dangers that still exist every time we make that trip. In order to limit risks on ourselves we require training for all drivers, wear seatbelts and drive carefully based on weather and road conditions."
   ]
  },
  {
   "cell_type": "markdown",
   "metadata": {},
   "source": [
    "## Problem <a name=\"Problem\"></a>"
   ]
  },
  {
   "cell_type": "markdown",
   "metadata": {},
   "source": [
    "We value the safety of every person on the road and want to limit the possibility of any severe or fatal car accidents. The objective of this project is to predict the severity of an accident based on different attributes in our data, such as road conditions, road-contour, light condition, etc. \n",
    "\n",
    "To provide the predicted severity of the accident a supervised machine learning classification model will be developed.\n",
    "\n",
    "<h4>Target Audience</h4>\n",
    "\n",
    "1. CDOT (Colorado Department of Transportation): By being able to predict the severity of an accident based on the conditions, CDOT can effectively plan road closures and utilize signs to warn drivers of the conditions.\n",
    "2. First Responders: First responders can predict the sevirity of the accident they are responding to, allowing them to be better prepared when they arrive on scence.\n",
    "3. Drivers in Denver: Drivers can predict the sevirity of accidents before leaving allowing them to alter travel plans if needed."
   ]
  },
  {
   "cell_type": "markdown",
   "metadata": {},
   "source": [
    "## Data <a name=\"Data\"></a>"
   ]
  },
  {
   "cell_type": "markdown",
   "metadata": {},
   "source": [
    "I will be performing analysis based on traffic accident data in the Denver area. The dataset I will be using is the from the open data catalog, specifically it is the Traffic Accidents - Comma-Separated Values provided here: \n",
    "\n",
    "https://www.denvergov.org/opendata/dataset/city-and-county-of-denver-traffic-accidents\n",
    "\n",
    "This dataset initially provided 44 attributes with 181,943 rows of motor vehicle crashes reported to the Denver Police Department, that occurred within the City and County of Denver and during the previous five calendar years plus the current year to date.\n",
    "\n",
    "Below I have started the data exploration phase. I started by loading the csv into a dataframe, and looking at the head of the datframe. I then created my severity column based on the fatalities and seriously injured column. Lastly I looked at the shape of my data, as well as the data types and value counts of severity in my dataset. "
   ]
  },
  {
   "cell_type": "code",
   "execution_count": 9,
   "metadata": {},
   "outputs": [
    {
     "data": {
      "text/html": [
       "<div>\n",
       "<style scoped>\n",
       "    .dataframe tbody tr th:only-of-type {\n",
       "        vertical-align: middle;\n",
       "    }\n",
       "\n",
       "    .dataframe tbody tr th {\n",
       "        vertical-align: top;\n",
       "    }\n",
       "\n",
       "    .dataframe thead th {\n",
       "        text-align: right;\n",
       "    }\n",
       "</style>\n",
       "<table border=\"1\" class=\"dataframe\">\n",
       "  <thead>\n",
       "    <tr style=\"text-align: right;\">\n",
       "      <th></th>\n",
       "      <th>INCIDENT_ID</th>\n",
       "      <th>OFFENSE_ID</th>\n",
       "      <th>OFFENSE_CODE</th>\n",
       "      <th>OFFENSE_CODE_EXTENSION</th>\n",
       "      <th>TOP_TRAFFIC_ACCIDENT_OFFENSE</th>\n",
       "      <th>FIRST_OCCURRENCE_DATE</th>\n",
       "      <th>LAST_OCCURRENCE_DATE</th>\n",
       "      <th>REPORTED_DATE</th>\n",
       "      <th>INCIDENT_ADDRESS</th>\n",
       "      <th>GEO_X</th>\n",
       "      <th>...</th>\n",
       "      <th>TU2_VEHICLE_MOVEMENT</th>\n",
       "      <th>TU2_DRIVER_ACTION</th>\n",
       "      <th>TU2_DRIVER_HUMANCONTRIBFACTOR</th>\n",
       "      <th>TU2_PEDESTRIAN_ACTION</th>\n",
       "      <th>SERIOUSLY_INJURED</th>\n",
       "      <th>FATALITIES</th>\n",
       "      <th>FATALITY_MODE_1</th>\n",
       "      <th>FATALITY_MODE_2</th>\n",
       "      <th>SERIOUSLY_INJURED_MODE_1</th>\n",
       "      <th>SERIOUSLY_INJURED_MODE_2</th>\n",
       "    </tr>\n",
       "    <tr>\n",
       "      <th>OBJECTID_1</th>\n",
       "      <th></th>\n",
       "      <th></th>\n",
       "      <th></th>\n",
       "      <th></th>\n",
       "      <th></th>\n",
       "      <th></th>\n",
       "      <th></th>\n",
       "      <th></th>\n",
       "      <th></th>\n",
       "      <th></th>\n",
       "      <th></th>\n",
       "      <th></th>\n",
       "      <th></th>\n",
       "      <th></th>\n",
       "      <th></th>\n",
       "      <th></th>\n",
       "      <th></th>\n",
       "      <th></th>\n",
       "      <th></th>\n",
       "      <th></th>\n",
       "      <th></th>\n",
       "    </tr>\n",
       "  </thead>\n",
       "  <tbody>\n",
       "    <tr>\n",
       "      <th>1</th>\n",
       "      <td>20193963.0</td>\n",
       "      <td>2019396354010</td>\n",
       "      <td>5401</td>\n",
       "      <td>0</td>\n",
       "      <td>TRAF - ACCIDENT - HIT &amp; RUN</td>\n",
       "      <td>2019-01-02 20:50:00</td>\n",
       "      <td>NaN</td>\n",
       "      <td>2019-01-02 21:01:00</td>\n",
       "      <td>W COLFAX AVE / N FEDERAL BLVD</td>\n",
       "      <td>3133517.0</td>\n",
       "      <td>...</td>\n",
       "      <td>GOING STRAIGHT</td>\n",
       "      <td>OTHER</td>\n",
       "      <td>NO APPARENT</td>\n",
       "      <td></td>\n",
       "      <td>0.0</td>\n",
       "      <td>0.0</td>\n",
       "      <td></td>\n",
       "      <td></td>\n",
       "      <td></td>\n",
       "      <td></td>\n",
       "    </tr>\n",
       "    <tr>\n",
       "      <th>2</th>\n",
       "      <td>20193966.0</td>\n",
       "      <td>2019396654410</td>\n",
       "      <td>5441</td>\n",
       "      <td>0</td>\n",
       "      <td>TRAF - ACCIDENT</td>\n",
       "      <td>2019-01-02 20:59:00</td>\n",
       "      <td>NaN</td>\n",
       "      <td>2019-01-02 20:59:00</td>\n",
       "      <td>N DELAWARE ST / W 8TH AVE</td>\n",
       "      <td>3142641.0</td>\n",
       "      <td>...</td>\n",
       "      <td>GOING STRAIGHT</td>\n",
       "      <td>OTHER</td>\n",
       "      <td>NO APPARENT</td>\n",
       "      <td></td>\n",
       "      <td>0.0</td>\n",
       "      <td>0.0</td>\n",
       "      <td></td>\n",
       "      <td></td>\n",
       "      <td></td>\n",
       "      <td></td>\n",
       "    </tr>\n",
       "    <tr>\n",
       "      <th>3</th>\n",
       "      <td>20193991.0</td>\n",
       "      <td>2019399154010</td>\n",
       "      <td>5401</td>\n",
       "      <td>0</td>\n",
       "      <td>TRAF - ACCIDENT - HIT &amp; RUN</td>\n",
       "      <td>2019-01-02 09:30:00</td>\n",
       "      <td>NaN</td>\n",
       "      <td>2019-01-02 21:14:00</td>\n",
       "      <td>5000 E 33RD AVE</td>\n",
       "      <td>3160492.0</td>\n",
       "      <td>...</td>\n",
       "      <td>PARKED</td>\n",
       "      <td></td>\n",
       "      <td></td>\n",
       "      <td></td>\n",
       "      <td>0.0</td>\n",
       "      <td>0.0</td>\n",
       "      <td></td>\n",
       "      <td></td>\n",
       "      <td></td>\n",
       "      <td></td>\n",
       "    </tr>\n",
       "    <tr>\n",
       "      <th>4</th>\n",
       "      <td>20194077.0</td>\n",
       "      <td>2019407754410</td>\n",
       "      <td>5441</td>\n",
       "      <td>0</td>\n",
       "      <td>TRAF - ACCIDENT</td>\n",
       "      <td>2019-01-02 22:03:00</td>\n",
       "      <td>NaN</td>\n",
       "      <td>2019-01-02 22:46:00</td>\n",
       "      <td>W 48TH AVE / N BANNOCK ST</td>\n",
       "      <td>3143001.0</td>\n",
       "      <td>...</td>\n",
       "      <td>GOING STRAIGHT</td>\n",
       "      <td>OTHER</td>\n",
       "      <td>NO APPARENT</td>\n",
       "      <td></td>\n",
       "      <td>0.0</td>\n",
       "      <td>0.0</td>\n",
       "      <td></td>\n",
       "      <td></td>\n",
       "      <td></td>\n",
       "      <td></td>\n",
       "    </tr>\n",
       "    <tr>\n",
       "      <th>5</th>\n",
       "      <td>20194189.0</td>\n",
       "      <td>2019418954200</td>\n",
       "      <td>5420</td>\n",
       "      <td>0</td>\n",
       "      <td>TRAF - ACCIDENT - DUI/DUID</td>\n",
       "      <td>2019-01-02 23:19:00</td>\n",
       "      <td>NaN</td>\n",
       "      <td>2019-01-02 23:34:00</td>\n",
       "      <td>I70 HWYWB / N PECOS ST</td>\n",
       "      <td>3138717.0</td>\n",
       "      <td>...</td>\n",
       "      <td>STOPPED IN TRAFFIC</td>\n",
       "      <td>OTHER</td>\n",
       "      <td>NO APPARENT</td>\n",
       "      <td></td>\n",
       "      <td>0.0</td>\n",
       "      <td>0.0</td>\n",
       "      <td></td>\n",
       "      <td></td>\n",
       "      <td></td>\n",
       "      <td></td>\n",
       "    </tr>\n",
       "  </tbody>\n",
       "</table>\n",
       "<p>5 rows × 44 columns</p>\n",
       "</div>"
      ],
      "text/plain": [
       "            INCIDENT_ID     OFFENSE_ID  OFFENSE_CODE  OFFENSE_CODE_EXTENSION  \\\n",
       "OBJECTID_1                                                                     \n",
       "1            20193963.0  2019396354010          5401                       0   \n",
       "2            20193966.0  2019396654410          5441                       0   \n",
       "3            20193991.0  2019399154010          5401                       0   \n",
       "4            20194077.0  2019407754410          5441                       0   \n",
       "5            20194189.0  2019418954200          5420                       0   \n",
       "\n",
       "              TOP_TRAFFIC_ACCIDENT_OFFENSE FIRST_OCCURRENCE_DATE  \\\n",
       "OBJECTID_1                                                         \n",
       "1           TRAF - ACCIDENT - HIT & RUN      2019-01-02 20:50:00   \n",
       "2           TRAF - ACCIDENT                  2019-01-02 20:59:00   \n",
       "3           TRAF - ACCIDENT - HIT & RUN      2019-01-02 09:30:00   \n",
       "4           TRAF - ACCIDENT                  2019-01-02 22:03:00   \n",
       "5           TRAF - ACCIDENT - DUI/DUID       2019-01-02 23:19:00   \n",
       "\n",
       "           LAST_OCCURRENCE_DATE        REPORTED_DATE  \\\n",
       "OBJECTID_1                                             \n",
       "1                           NaN  2019-01-02 21:01:00   \n",
       "2                           NaN  2019-01-02 20:59:00   \n",
       "3                           NaN  2019-01-02 21:14:00   \n",
       "4                           NaN  2019-01-02 22:46:00   \n",
       "5                           NaN  2019-01-02 23:34:00   \n",
       "\n",
       "                         INCIDENT_ADDRESS      GEO_X  ...  \\\n",
       "OBJECTID_1                                            ...   \n",
       "1           W COLFAX AVE / N FEDERAL BLVD  3133517.0  ...   \n",
       "2               N DELAWARE ST / W 8TH AVE  3142641.0  ...   \n",
       "3                         5000 E 33RD AVE  3160492.0  ...   \n",
       "4               W 48TH AVE / N BANNOCK ST  3143001.0  ...   \n",
       "5                  I70 HWYWB / N PECOS ST  3138717.0  ...   \n",
       "\n",
       "            TU2_VEHICLE_MOVEMENT  TU2_DRIVER_ACTION  \\\n",
       "OBJECTID_1                                            \n",
       "1                 GOING STRAIGHT              OTHER   \n",
       "2                 GOING STRAIGHT              OTHER   \n",
       "3                         PARKED                      \n",
       "4                 GOING STRAIGHT              OTHER   \n",
       "5             STOPPED IN TRAFFIC              OTHER   \n",
       "\n",
       "            TU2_DRIVER_HUMANCONTRIBFACTOR  TU2_PEDESTRIAN_ACTION  \\\n",
       "OBJECTID_1                                                         \n",
       "1                             NO APPARENT                          \n",
       "2                             NO APPARENT                          \n",
       "3                                                                  \n",
       "4                             NO APPARENT                          \n",
       "5                             NO APPARENT                          \n",
       "\n",
       "            SERIOUSLY_INJURED FATALITIES  FATALITY_MODE_1  FATALITY_MODE_2  \\\n",
       "OBJECTID_1                                                                   \n",
       "1                         0.0        0.0                                     \n",
       "2                         0.0        0.0                                     \n",
       "3                         0.0        0.0                                     \n",
       "4                         0.0        0.0                                     \n",
       "5                         0.0        0.0                                     \n",
       "\n",
       "           SERIOUSLY_INJURED_MODE_1 SERIOUSLY_INJURED_MODE_2  \n",
       "OBJECTID_1                                                    \n",
       "1                                                             \n",
       "2                                                             \n",
       "3                                                             \n",
       "4                                                             \n",
       "5                                                             \n",
       "\n",
       "[5 rows x 44 columns]"
      ]
     },
     "execution_count": 9,
     "metadata": {},
     "output_type": "execute_result"
    }
   ],
   "source": [
    "import pandas as pd\n",
    "import numpy as np\n",
    "\n",
    "df = pd.read_csv('https://www.denvergov.org/media/gis/DataCatalog/traffic_accidents/csv/traffic_accidents.csv', index_col = 0)\n",
    "df.head(5)"
   ]
  },
  {
   "cell_type": "code",
   "execution_count": 10,
   "metadata": {},
   "outputs": [],
   "source": [
    "df['Severity'] = 0\n",
    "def label_severity (row):\n",
    "    if row['FATALITIES'] == 0 and row['SERIOUSLY_INJURED'] == 0 :\n",
    "         return 0\n",
    "    elif row['FATALITIES'] == 0 and row['SERIOUSLY_INJURED'] > 0 :\n",
    "        return 1\n",
    "    elif row['FATALITIES'] > 0:\n",
    "        return 2\n",
    "        \n",
    "df['Severity'] = df.apply (lambda row: label_severity(row), axis=1)"
   ]
  },
  {
   "cell_type": "code",
   "execution_count": 11,
   "metadata": {},
   "outputs": [
    {
     "data": {
      "text/plain": [
       "(181943, 45)"
      ]
     },
     "execution_count": 11,
     "metadata": {},
     "output_type": "execute_result"
    }
   ],
   "source": [
    "df.shape"
   ]
  },
  {
   "cell_type": "code",
   "execution_count": 12,
   "metadata": {},
   "outputs": [
    {
     "name": "stdout",
     "output_type": "stream",
     "text": [
      "<class 'pandas.core.frame.DataFrame'>\n",
      "Int64Index: 181943 entries, 1 to 181943\n",
      "Data columns (total 45 columns):\n",
      "INCIDENT_ID                      181943 non-null float64\n",
      "OFFENSE_ID                       181943 non-null int64\n",
      "OFFENSE_CODE                     181943 non-null int64\n",
      "OFFENSE_CODE_EXTENSION           181943 non-null int64\n",
      "TOP_TRAFFIC_ACCIDENT_OFFENSE     181943 non-null object\n",
      "FIRST_OCCURRENCE_DATE            181943 non-null object\n",
      "LAST_OCCURRENCE_DATE             616 non-null object\n",
      "REPORTED_DATE                    181943 non-null object\n",
      "INCIDENT_ADDRESS                 181943 non-null object\n",
      "GEO_X                            174770 non-null float64\n",
      "GEO_Y                            174770 non-null float64\n",
      "GEO_LON                          174770 non-null float64\n",
      "GEO_LAT                          174770 non-null float64\n",
      "DISTRICT_ID                      179166 non-null float64\n",
      "PRECINCT_ID                      174745 non-null float64\n",
      "NEIGHBORHOOD_ID                  174745 non-null object\n",
      "BICYCLE_IND                      176602 non-null float64\n",
      "PEDESTRIAN_IND                   176602 non-null float64\n",
      "HARMFUL_EVENT_SEQ_1              181943 non-null object\n",
      "HARMFUL_EVENT_SEQ_2              181943 non-null object\n",
      "HARMFUL_EVENT_SEQ_3              181943 non-null object\n",
      "ROAD_LOCATION                    181943 non-null object\n",
      "ROAD_DESCRIPTION                 181943 non-null object\n",
      "ROAD_CONTOUR                     181943 non-null object\n",
      "ROAD_CONDITION                   181943 non-null object\n",
      "LIGHT_CONDITION                  181943 non-null object\n",
      "TU1_VEHICLE_TYPE                 181943 non-null object\n",
      "TU1_TRAVEL_DIRECTION             181943 non-null object\n",
      "TU1_VEHICLE_MOVEMENT             181943 non-null object\n",
      "TU1_DRIVER_ACTION                181943 non-null object\n",
      "TU1_DRIVER_HUMANCONTRIBFACTOR    181943 non-null object\n",
      "TU1_PEDESTRIAN_ACTION            181943 non-null object\n",
      "TU2_VEHICLE_TYPE                 181943 non-null object\n",
      "TU2_TRAVEL_DIRECTION             181943 non-null object\n",
      "TU2_VEHICLE_MOVEMENT             181943 non-null object\n",
      "TU2_DRIVER_ACTION                181943 non-null object\n",
      "TU2_DRIVER_HUMANCONTRIBFACTOR    181943 non-null object\n",
      "TU2_PEDESTRIAN_ACTION            181943 non-null object\n",
      "SERIOUSLY_INJURED                181619 non-null float64\n",
      "FATALITIES                       181619 non-null float64\n",
      "FATALITY_MODE_1                  181943 non-null object\n",
      "FATALITY_MODE_2                  181943 non-null object\n",
      "SERIOUSLY_INJURED_MODE_1         181943 non-null object\n",
      "SERIOUSLY_INJURED_MODE_2         181943 non-null object\n",
      "Severity                         181619 non-null float64\n",
      "dtypes: float64(12), int64(3), object(30)\n",
      "memory usage: 63.9+ MB\n"
     ]
    }
   ],
   "source": [
    "df.info()"
   ]
  },
  {
   "cell_type": "code",
   "execution_count": 13,
   "metadata": {},
   "outputs": [
    {
     "data": {
      "text/plain": [
       "0.0    177512\n",
       "1.0      3722\n",
       "2.0       385\n",
       "Name: Severity, dtype: int64"
      ]
     },
     "execution_count": 13,
     "metadata": {},
     "output_type": "execute_result"
    }
   ],
   "source": [
    "df['Severity'].value_counts()"
   ]
  },
  {
   "cell_type": "markdown",
   "metadata": {},
   "source": [
    "## Methodology <a name=\"Methodology\"></a>"
   ]
  },
  {
   "cell_type": "markdown",
   "metadata": {},
   "source": [
    "(Methodology Section)"
   ]
  },
  {
   "cell_type": "markdown",
   "metadata": {},
   "source": [
    "## Analysis <a name=\"Analysis\"></a>"
   ]
  },
  {
   "cell_type": "markdown",
   "metadata": {},
   "source": [
    "(Analysis Section)"
   ]
  },
  {
   "cell_type": "markdown",
   "metadata": {},
   "source": [
    "## Results <a name=\"Results\"></a>"
   ]
  },
  {
   "cell_type": "markdown",
   "metadata": {},
   "source": [
    "(Results Section)"
   ]
  },
  {
   "cell_type": "markdown",
   "metadata": {},
   "source": [
    "## Conclusion <a name=\"Conclusion\"></a>"
   ]
  },
  {
   "cell_type": "markdown",
   "metadata": {},
   "source": [
    "(Conclusion Section)"
   ]
  }
 ],
 "metadata": {
  "kernelspec": {
   "display_name": "Python 3",
   "language": "python",
   "name": "python3"
  },
  "language_info": {
   "codemirror_mode": {
    "name": "ipython",
    "version": 3
   },
   "file_extension": ".py",
   "mimetype": "text/x-python",
   "name": "python",
   "nbconvert_exporter": "python",
   "pygments_lexer": "ipython3",
   "version": "3.7.3"
  }
 },
 "nbformat": 4,
 "nbformat_minor": 2
}
